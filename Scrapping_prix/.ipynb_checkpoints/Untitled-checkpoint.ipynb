{
 "cells": [
  {
   "cell_type": "code",
   "execution_count": 2,
   "metadata": {
    "collapsed": true
   },
   "outputs": [],
   "source": [
    "import pandas as pd\n",
    "\n"
   ]
  },
  {
   "cell_type": "code",
   "execution_count": 3,
   "metadata": {},
   "outputs": [],
   "source": [
    "data = pd.read_csv('prix_vente.csv')"
   ]
  },
  {
   "cell_type": "code",
   "execution_count": 10,
   "metadata": {},
   "outputs": [
    {
     "data": {
      "text/plain": [
       "\"[{'appartement': {'prix_m2_bas': '2102', 'prix_m2_moyen': '2892', 'prix_m2_haut': '4355'}, 'date_extraction': '2018-10-10 19:10:01', 'maison': {'prix_m2_bas': '1800', 'prix_m2_moyen': '2962', 'prix_m2_haut': '4579'}}, {'maison': {'prix_m2_bas': '1792', 'prix_m2_moyen': '2967', 'prix_m2_haut': '4563'}, 'appartement': {'prix_m2_bas': '2093', 'prix_m2_moyen': '2875', 'prix_m2_haut': '4311'}, 'date_extraction': '2018-11-14 22:00:07'}, {'date_extraction': '2018-11-15 00:11:03', 'maison': {'prix_m2_haut': '4563', 'prix_m2_moyen': '2967', 'prix_m2_bas': '1792'}, 'appartement': {'prix_m2_haut': '4311', 'prix_m2_moyen': '2875', 'prix_m2_bas': '2093'}}]\""
      ]
     },
     "execution_count": 10,
     "metadata": {},
     "output_type": "execute_result"
    }
   ],
   "source": [
    "data.iloc[0].prix_m2_vente\n"
   ]
  }
 ],
 "metadata": {
  "kernelspec": {
   "display_name": "Python 3",
   "language": "python",
   "name": "python3"
  },
  "language_info": {
   "codemirror_mode": {
    "name": "ipython",
    "version": 3
   },
   "file_extension": ".py",
   "mimetype": "text/x-python",
   "name": "python",
   "nbconvert_exporter": "python",
   "pygments_lexer": "ipython3",
   "version": "3.6.3"
  }
 },
 "nbformat": 4,
 "nbformat_minor": 2
}
